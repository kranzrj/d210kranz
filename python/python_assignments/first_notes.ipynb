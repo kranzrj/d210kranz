{
 "cells": [
  {
   "cell_type": "code",
   "execution_count": null,
   "id": "2815cd96-4901-4955-bb21-44db63dbd6b1",
   "metadata": {},
   "outputs": [],
   "source": [
    "import nltk\n",
    "import nltk.corpus\n",
    "# The next line downloads all the example texts used in the NLTK book at https://www.nltk.org/book !\n",
    "# You can comment out the download line after the first time you do it.\n",
    "nltk.download('book')\n",
    "from nltk.book import *\n",
    "# The next line lets us do GET requests from remote URLs on the web:\n",
    "from urllib import request\n",
    "# The following import lines are for plotting interactive visualizations in Python\n",
    "import matplotlib\n",
    "import matplotlib.pyplot as plt\n",
    "# import tk ebb: Sorry this was INCORRECT! We need to distinguish tkinter from tensorkit."
   ]
  },
  {
   "cell_type": "code",
   "execution_count": null,
   "id": "5d6bfd67-c04a-412e-bb14-7894878c0b6f",
   "metadata": {},
   "outputs": [],
   "source": [
    "plt.plot(range(10))\n",
    "plt.show()"
   ]
  },
  {
   "cell_type": "code",
   "execution_count": null,
   "id": "d5999858-49b1-4e97-b600-d5febfb8ec80",
   "metadata": {},
   "outputs": [],
   "source": []
  },
  {
   "cell_type": "code",
   "execution_count": null,
   "id": "5700a7d8-21d7-4971-b79b-ef636ae108a5",
   "metadata": {},
   "outputs": [],
   "source": []
  },
  {
   "cell_type": "markdown",
   "id": "6838c065-ab09-4405-8ed9-0e8254ac35f9",
   "metadata": {},
   "source": []
  }
 ],
 "metadata": {
  "kernelspec": {
   "display_name": "Python 3 (ipykernel)",
   "language": "python",
   "name": "python3"
  },
  "language_info": {
   "codemirror_mode": {
    "name": "ipython",
    "version": 3
   },
   "file_extension": ".py",
   "mimetype": "text/x-python",
   "name": "python",
   "nbconvert_exporter": "python",
   "pygments_lexer": "ipython3",
   "version": "3.12.0"
  }
 },
 "nbformat": 4,
 "nbformat_minor": 5
}
